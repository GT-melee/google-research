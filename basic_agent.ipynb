{
 "cells": [
  {
   "cell_type": "code",
   "execution_count": 1,
   "id": "49331687-3694-439a-9006-02f5938b7fda",
   "metadata": {},
   "outputs": [],
   "source": [
    "%load_ext autoreload\n",
    "%autoreload 2"
   ]
  },
  {
   "cell_type": "code",
   "execution_count": 2,
   "id": "35dd175b-3616-4343-aa7b-5c82208795e4",
   "metadata": {},
   "outputs": [],
   "source": [
    "from PIL import Image\n",
    "import numpy as np\n",
    "from pathlib import Path\n",
    "from collections import deque\n",
    "import random, datetime, os, copy\n",
    "\n",
    "# Gym is an OpenAI toolkit for RL\n",
    "import gym"
   ]
  },
  {
   "cell_type": "code",
   "execution_count": 3,
   "id": "6fd568bd-b093-4ef0-bd50-01fc7c176a9d",
   "metadata": {},
   "outputs": [
    {
     "name": "stdout",
     "output_type": "stream",
     "text": [
      "['black', 'blue', 'chartreuse', 'green', 'grey', 'lamourestbrun', 'purple', 'red', 'teal', 'yellow']\n"
     ]
    },
    {
     "ename": "ModuleNotFoundError",
     "evalue": "No module named 'tf_agents'",
     "output_type": "error",
     "traceback": [
      "\u001b[0;31m---------------------------------------------------------------------------\u001b[0m",
      "\u001b[0;31mModuleNotFoundError\u001b[0m                       Traceback (most recent call last)",
      "\u001b[0;32m<ipython-input-3-5e94c97e8f40>\u001b[0m in \u001b[0;36m<module>\u001b[0;34m\u001b[0m\n\u001b[1;32m     12\u001b[0m \u001b[0;31m# multigrid\u001b[0m\u001b[0;34m\u001b[0m\u001b[0;34m\u001b[0m\u001b[0;34m\u001b[0m\u001b[0m\n\u001b[1;32m     13\u001b[0m \u001b[0;32mfrom\u001b[0m \u001b[0msocial_rl\u001b[0m \u001b[0;32mimport\u001b[0m \u001b[0mgym_multigrid\u001b[0m\u001b[0;34m\u001b[0m\u001b[0;34m\u001b[0m\u001b[0m\n\u001b[0;32m---> 14\u001b[0;31m \u001b[0;32mfrom\u001b[0m \u001b[0msocial_rl\u001b[0m\u001b[0;34m.\u001b[0m\u001b[0madversarial_env\u001b[0m \u001b[0;32mimport\u001b[0m \u001b[0madversarial_env\u001b[0m\u001b[0;34m\u001b[0m\u001b[0;34m\u001b[0m\u001b[0m\n\u001b[0m\u001b[1;32m     15\u001b[0m \u001b[0;32mfrom\u001b[0m \u001b[0msocial_rl\u001b[0m\u001b[0;34m.\u001b[0m\u001b[0mmultiagent_tfagents\u001b[0m \u001b[0;32mimport\u001b[0m \u001b[0mmultiagent_gym_suite\u001b[0m\u001b[0;34m\u001b[0m\u001b[0;34m\u001b[0m\u001b[0m\n",
      "\u001b[0;32m~/Documents/2021-winter/ift-6756/gt-org/google-research/social_rl/adversarial_env/adversarial_env.py\u001b[0m in \u001b[0;36m<module>\u001b[0;34m\u001b[0m\n\u001b[1;32m     40\u001b[0m \u001b[0;32mimport\u001b[0m \u001b[0mtensorflow\u001b[0m \u001b[0;32mas\u001b[0m \u001b[0mtf\u001b[0m  \u001b[0;31m# pylint: disable=g-explicit-tensorflow-version-import\u001b[0m\u001b[0;34m\u001b[0m\u001b[0;34m\u001b[0m\u001b[0m\n\u001b[1;32m     41\u001b[0m \u001b[0;34m\u001b[0m\u001b[0m\n\u001b[0;32m---> 42\u001b[0;31m \u001b[0;32mfrom\u001b[0m \u001b[0mtf_agents\u001b[0m\u001b[0;34m.\u001b[0m\u001b[0menvironments\u001b[0m \u001b[0;32mimport\u001b[0m \u001b[0mbatched_py_environment\u001b[0m\u001b[0;34m\u001b[0m\u001b[0;34m\u001b[0m\u001b[0m\n\u001b[0m\u001b[1;32m     43\u001b[0m \u001b[0;32mfrom\u001b[0m \u001b[0mtf_agents\u001b[0m\u001b[0;34m.\u001b[0m\u001b[0menvironments\u001b[0m \u001b[0;32mimport\u001b[0m \u001b[0mgym_wrapper\u001b[0m\u001b[0;34m\u001b[0m\u001b[0;34m\u001b[0m\u001b[0m\n\u001b[1;32m     44\u001b[0m \u001b[0;32mfrom\u001b[0m \u001b[0mtf_agents\u001b[0m\u001b[0;34m.\u001b[0m\u001b[0menvironments\u001b[0m \u001b[0;32mimport\u001b[0m \u001b[0mtf_py_environment\u001b[0m\u001b[0;34m\u001b[0m\u001b[0;34m\u001b[0m\u001b[0m\n",
      "\u001b[0;31mModuleNotFoundError\u001b[0m: No module named 'tf_agents'"
     ]
    }
   ],
   "source": [
    "# tensorflow\n",
    "import tensorflow as tf\n",
    "# from tf_agents.environments import tf_py_environment\n",
    "# from tf_agents.policies import policy_loader\n",
    "# from tf_agents.trajectories import time_step as ts_lib\n",
    "\n",
    "# gym stuff\n",
    "import gym\n",
    "from gym.wrappers.monitoring.video_recorder import VideoRecorder\n",
    "#from tf_agents.typing.types import PyEnv\n",
    "\n",
    "# multigrid\n",
    "from social_rl import gym_multigrid\n",
    "from social_rl.adversarial_env import adversarial_env\n",
    "from social_rl.multiagent_tfagents import multiagent_gym_suite"
   ]
  },
  {
   "cell_type": "code",
   "execution_count": 4,
   "id": "a252bcaa-05d1-4a00-8187-6e173868107b",
   "metadata": {},
   "outputs": [],
   "source": [
    "import numpy as np\n",
    "import matplotlib.pyplot as plt"
   ]
  },
  {
   "cell_type": "markdown",
   "id": "030e958f-1d95-44e3-8fb6-13b8d824247b",
   "metadata": {},
   "source": [
    "# Multigrid demo of video capture"
   ]
  },
  {
   "cell_type": "code",
   "execution_count": 5,
   "id": "c28ed1e5-7f74-4f98-9db9-02ead95689d1",
   "metadata": {},
   "outputs": [
    {
     "name": "stdout",
     "output_type": "stream",
     "text": [
      "INFO:tensorflow:Enabling eager execution\n"
     ]
    },
    {
     "name": "stderr",
     "output_type": "stream",
     "text": [
      "INFO:tensorflow:Enabling eager execution\n"
     ]
    },
    {
     "name": "stdout",
     "output_type": "stream",
     "text": [
      "INFO:tensorflow:Enabling v2 tensorshape\n"
     ]
    },
    {
     "name": "stderr",
     "output_type": "stream",
     "text": [
      "INFO:tensorflow:Enabling v2 tensorshape\n"
     ]
    },
    {
     "name": "stdout",
     "output_type": "stream",
     "text": [
      "INFO:tensorflow:Enabling resource variables\n"
     ]
    },
    {
     "name": "stderr",
     "output_type": "stream",
     "text": [
      "INFO:tensorflow:Enabling resource variables\n"
     ]
    },
    {
     "name": "stdout",
     "output_type": "stream",
     "text": [
      "INFO:tensorflow:Enabling tensor equality\n"
     ]
    },
    {
     "name": "stderr",
     "output_type": "stream",
     "text": [
      "INFO:tensorflow:Enabling tensor equality\n"
     ]
    },
    {
     "name": "stdout",
     "output_type": "stream",
     "text": [
      "INFO:tensorflow:Enabling control flow v2\n"
     ]
    },
    {
     "name": "stderr",
     "output_type": "stream",
     "text": [
      "INFO:tensorflow:Enabling control flow v2\n"
     ]
    }
   ],
   "source": [
    "from social_rl.adversarial_env.domain_transfer_experiments_2 import BaseEnv, AdvEnv, load_agent, plot_obs"
   ]
  },
  {
   "cell_type": "code",
   "execution_count": 6,
   "id": "9c6e132b-37d6-4055-b5a2-108c084765a2",
   "metadata": {},
   "outputs": [],
   "source": [
    "from social_rl.gym_multigrid.envs.adversarial import COLOR_TO_IDX, IDX_TO_COLOR, COLORS"
   ]
  },
  {
   "cell_type": "code",
   "execution_count": 18,
   "id": "24a8ccf0-dcb9-47c3-8d0e-2dce566d2717",
   "metadata": {},
   "outputs": [],
   "source": [
    "sequence=[24, 0, 2, 3, 4, 7, 8, 13, 19, 27, 30, 35, 36, 41, 46, 50, 59, 61, 66, 69, 78, 79, 85, 92, 101, 105, 110, 111, 125, 148]\n",
    "# sequence=[12, 0, 13, 14, 15, 16, 17, 18, 19, 20, 21, 22, 23, 24, 25]\n",
    "\n",
    "corridor = AdvEnv(sequence=sequence, #colors=None,\n",
    "#                   colors=[5, 1, 6],  # wall, goal, floor: gray, green, black\n",
    "#                   video_fp=\"videos/adversary.mp4\"\n",
    "                 )"
   ]
  },
  {
   "cell_type": "code",
   "execution_count": 24,
   "id": "9a33cadb-446f-4ca2-b70b-7fc5501f82f6",
   "metadata": {},
   "outputs": [],
   "source": [
    "pyenv, tfenv = corridor.adversarial_steps()"
   ]
  },
  {
   "cell_type": "code",
   "execution_count": 25,
   "id": "0a992600-fc9c-4cb2-80ca-5d595bd98646",
   "metadata": {},
   "outputs": [],
   "source": [
    "# corridor.close()"
   ]
  },
  {
   "cell_type": "code",
   "execution_count": 26,
   "id": "462e8a4f-d706-4923-883e-98151074f8da",
   "metadata": {},
   "outputs": [],
   "source": [
    "obs = tfenv.step_adversary(149)"
   ]
  },
  {
   "cell_type": "code",
   "execution_count": 27,
   "id": "80f88940-3981-47ab-b846-e5fe0eb14af3",
   "metadata": {},
   "outputs": [
    {
     "data": {
      "image/png": "[encoded data removed]",
      "text/plain": [
       "<Figure size 432x288 with 1 Axes>"
      ]
     },
     "metadata": {
      "needs_background": "light"
     },
     "output_type": "display_data"
    }
   ],
   "source": [
    "arr = plot_obs(obs)"
   ]
  },
  {
   "cell_type": "code",
   "execution_count": 55,
   "id": "88c86036-4505-41a3-9505-082ef6bc0641",
   "metadata": {},
   "outputs": [],
   "source": [
    "# img = py_env.render('rgb_array')\n",
    "# plt.imshow(img)"
   ]
  },
  {
   "cell_type": "code",
   "execution_count": 59,
   "id": "ac6d5f4f-7b4f-4cb7-bb04-eb2e32ddcf3a",
   "metadata": {},
   "outputs": [],
   "source": [
    "def run_agent_on_env_manual(actions, tf_env, py_env):\n",
    "    steps = []\n",
    "    # make the environment\n",
    "    timestep = tf_env.reset_agent()\n",
    "    steps.append(timestep)\n",
    "\n",
    "    for i in actions:\n",
    "        steps.append(tf_env.step(i))\n",
    "        py_env.capture_frame()\n",
    "        \n",
    "    print(actions)\n",
    "    return np.array(rewards)"
   ]
  },
  {
   "cell_type": "code",
   "execution_count": 60,
   "id": "ed406a80-05cf-483c-91cb-98265a83ad7d",
   "metadata": {},
   "outputs": [],
   "source": [
    "def run_agent_on_env(agent, tf_env, py_env):\n",
    "    done = False\n",
    "    rewards = []\n",
    "\n",
    "    # make the environment\n",
    "    timestep = tf_env.reset_agent()\n",
    "    policy_state = agent.get_initial_state(1)\n",
    "\n",
    "    plt.imshow(tf_env.render()[0])\n",
    "    # plt.show()\n",
    " \n",
    "    actions = []\n",
    "    steps = [timestep]\n",
    "    \n",
    "    #   while not done:\n",
    "    for i in range(100):\n",
    "        policy_step = agent.action(timestep, policy_state=policy_state)\n",
    "\n",
    "        policy_state = policy_step.state\n",
    "        actions.append(policy_step.action.numpy()[0])\n",
    "\n",
    "        timestep = tf_env.step(policy_step.action)\n",
    "        _, rew, disc, obs = timestep\n",
    "        steps.append(timestep)\n",
    "\n",
    "        rewards.append(rew.numpy()[0])\n",
    "        py_env.capture_frame()\n",
    "        \n",
    "    print(actions)\n",
    "    print(rewards)\n",
    " \n",
    "    return steps"
   ]
  },
  {
   "cell_type": "code",
   "execution_count": null,
   "id": "cdab0864-0987-4bb4-98d7-060da117d7f7",
   "metadata": {},
   "outputs": [],
   "source": []
  },
  {
   "cell_type": "markdown",
   "id": "ca240a82-43fe-4f48-a51c-7cd635239547",
   "metadata": {},
   "source": [
    "# Test agent"
   ]
  },
  {
   "cell_type": "code",
   "execution_count": 61,
   "id": "a63cea62-deb7-4891-bf80-4dc5f8a7c9f9",
   "metadata": {},
   "outputs": [],
   "source": [
    "# agent = load_agent(\"/home/ddobre/Projects/game_theory/saved_models/static_apr22/policy_saved_model/agent/0/policy_000499950/\")\n",
    "# agent = load_agent(\"/home/ddobre/Projects/game_theory/saved_models/static_apr22/policy_saved_model/adversary_agent/0/policy_000499950/\")\n",
    "agent = load_agent(\"/home/ddobre/Projects/game_theory/saved_models/baseline/policy_000230700/\")\n"
   ]
  },
  {
   "cell_type": "code",
   "execution_count": 64,
   "id": "549fed87-df79-4e65-928c-632e4390b7de",
   "metadata": {},
   "outputs": [],
   "source": [
    "sequence=[24, 0, 2, 3, 4, 7, 8, 13, 19, 27, 30, 35, 36, 41, 46, 50, 59, 61, 66, 69, 78, 79, 85, 92, 101, 105, 110, 111, 125, 148]  # maze\n",
    "sequence=[12, 0, 13, 14, 15, 16, 17, 18, 19, 20, 21, 22, 23, 24, 25]  # corridor\n",
    "sequence = [71, 111, 42, 43, 44, 45, 46, 47, 48, 55, 61, 68, 74, 81, 84, 85, 87, 94, 100, 107, 113, 120, 121, 122, 123, 124, 125, 126]\n",
    "\n",
    "# sequence = [74, 70] #, 56, 57, 58, 59, 60, 61, 62, 69, 75, 82, 88, 95, 96, 97, 98, 99, 100, 101]\n",
    "\n",
    "\n",
    "corridor = AdvEnv(sequence=sequence, #colors=None,\n",
    "#                   colors=[1, 6, 9],  # wall, goal, floor: gray, green, black\n",
    "                  video_fp=\"videos/baseline_charlie_static.mp4\")"
   ]
  },
  {
   "cell_type": "code",
   "execution_count": 65,
   "id": "8ea5a890-c2ec-4268-9d82-86e789801a60",
   "metadata": {
    "tags": []
   },
   "outputs": [
    {
     "name": "stdout",
     "output_type": "stream",
     "text": [
      "[2, 1, 2, 2, 1, 1, 1, 1, 1, 1, 2, 2, 2, 1, 1, 2, 2, 2, 1, 1, 1, 1, 1, 1, 2, 2, 2, 1, 1, 1, 2, 2, 2, 2, 1, 1, 1, 2, 2, 2, 1, 1, 2, 2, 1, 1, 1, 1, 1, 1, 2, 2, 1, 1, 2, 2, 1, 1, 1, 1, 1, 1, 2, 2, 1, 1, 2, 2, 1, 1, 1, 1, 1, 1, 2, 2, 2, 1, 1, 1, 1, 1, 1, 2, 2, 2, 1, 1, 2, 2, 1, 1, 2, 2, 1, 1, 1, 1, 1, 1]\n",
      "[0.0, 0.0, 0.0, 0.0, 0.0, 0.0, 0.0, 0.0, 0.0, 0.0, 0.0, 0.0, 0.0, 0.0, 0.0, 0.0, 0.0, 0.0, 0.0, 0.0, 0.0, 0.0, 0.0, 0.0, 0.0, 0.0, 0.0, 0.0, 0.0, 0.0, 0.0, 0.0, 0.0, 0.0, 0.0, 0.0, 0.0, 0.0, 0.0, 0.0, 0.0, 0.0, 0.0, 0.0, 0.0, 0.0, 0.0, 0.0, 0.0, 0.0, 0.0, 0.0, 0.0, 0.0, 0.0, 0.0, 0.0, 0.0, 0.0, 0.0, 0.0, 0.0, 0.0, 0.0, 0.0, 0.0, 0.0, 0.0, 0.0, 0.0, 0.0, 0.0, 0.0, 0.0, 0.0, 0.0, 0.0, 0.0, 0.0, 0.0, 0.0, 0.0, 0.0, 0.0, 0.0, 0.0, 0.0, 0.0, 0.0, 0.0, 0.0, 0.0, 0.0, 0.0, 0.0, 0.0, 0.0, 0.0, 0.0, 0.0]\n"
     ]
    },
    {
     "data": {
      "image/png": "[encoded data removed]",
      "text/plain": [
       "<Figure size 432x288 with 1 Axes>"
      ]
     },
     "metadata": {
      "needs_background": "light"
     },
     "output_type": "display_data"
    }
   ],
   "source": [
    "pyenv, tfenv = corridor.adversarial_steps()\n",
    "steps = run_agent_on_env(agent, tfenv, pyenv)"
   ]
  },
  {
   "cell_type": "code",
   "execution_count": 66,
   "id": "28912c0a-fade-4bb7-8f6b-2c80c4dd1c3c",
   "metadata": {},
   "outputs": [],
   "source": [
    "corridor.close()"
   ]
  },
  {
   "cell_type": "code",
   "execution_count": 111,
   "id": "bea1a8a9-0920-4e7f-a287-3c53bead9ff3",
   "metadata": {},
   "outputs": [
    {
     "data": {
      "text/plain": [
       "OrderedDict([('direction',\n",
       "              <tf.Tensor: shape=(1, 1), dtype=uint8, numpy=array([[0]], dtype=uint8)>),\n",
       "             ('image',\n",
       "              <tf.Tensor: shape=(1, 5, 5, 3), dtype=uint8, numpy=\n",
       "              array([[[[0, 0, 0],\n",
       "                       [0, 0, 0],\n",
       "                       [4, 4, 0],\n",
       "                       [0, 0, 0],\n",
       "                       [4, 4, 0]],\n",
       "              \n",
       "                      [[0, 0, 0],\n",
       "                       [0, 0, 0],\n",
       "                       [4, 4, 0],\n",
       "                       [0, 0, 0],\n",
       "                       [0, 0, 0]],\n",
       "              \n",
       "                      [[0, 0, 0],\n",
       "                       [0, 0, 0],\n",
       "                       [4, 4, 0],\n",
       "                       [0, 0, 0],\n",
       "                       [0, 0, 0]],\n",
       "              \n",
       "                      [[0, 0, 0],\n",
       "                       [0, 0, 0],\n",
       "                       [4, 4, 0],\n",
       "                       [4, 4, 0],\n",
       "                       [4, 4, 0]],\n",
       "              \n",
       "                      [[0, 0, 0],\n",
       "                       [0, 0, 0],\n",
       "                       [0, 0, 0],\n",
       "                       [0, 0, 0],\n",
       "                       [0, 0, 0]]]], dtype=uint8)>)])"
      ]
     },
     "execution_count": 111,
     "metadata": {},
     "output_type": "execute_result"
    }
   ],
   "source": [
    "steps[0][3]"
   ]
  },
  {
   "cell_type": "code",
   "execution_count": 110,
   "id": "5cca04e1-0646-417c-afdf-329dc1419ad7",
   "metadata": {},
   "outputs": [
    {
     "data": {
      "image/png": "[encoded data removed]",
      "text/plain": [
       "<Figure size 432x288 with 1 Axes>"
      ]
     },
     "metadata": {
      "needs_background": "light"
     },
     "output_type": "display_data"
    }
   ],
   "source": [
    "plot_obs(steps[0][3])"
   ]
  },
  {
   "cell_type": "code",
   "execution_count": null,
   "id": "eb7cde2b-2fc3-46a6-a9c5-68c64d3f970d",
   "metadata": {},
   "outputs": [],
   "source": []
  },
  {
   "cell_type": "code",
   "execution_count": null,
   "id": "03996893-ea98-44f4-b872-826a142ad989",
   "metadata": {},
   "outputs": [],
   "source": []
  },
  {
   "cell_type": "markdown",
   "id": "d93a79d4-fda9-4f89-9c3e-0b27a261a598",
   "metadata": {},
   "source": [
    "# Try generating an environment wtih the Adversary"
   ]
  },
  {
   "cell_type": "code",
   "execution_count": 16,
   "id": "c977a74b-810c-48e3-8e20-c13fbcd2052c",
   "metadata": {},
   "outputs": [
    {
     "name": "stdout",
     "output_type": "stream",
     "text": [
      "INFO:tensorflow:Enabling eager execution\n"
     ]
    },
    {
     "name": "stderr",
     "output_type": "stream",
     "text": [
      "INFO:tensorflow:Enabling eager execution\n"
     ]
    },
    {
     "name": "stdout",
     "output_type": "stream",
     "text": [
      "INFO:tensorflow:Enabling v2 tensorshape\n"
     ]
    },
    {
     "name": "stderr",
     "output_type": "stream",
     "text": [
      "INFO:tensorflow:Enabling v2 tensorshape\n"
     ]
    },
    {
     "name": "stdout",
     "output_type": "stream",
     "text": [
      "INFO:tensorflow:Enabling resource variables\n"
     ]
    },
    {
     "name": "stderr",
     "output_type": "stream",
     "text": [
      "INFO:tensorflow:Enabling resource variables\n"
     ]
    },
    {
     "name": "stdout",
     "output_type": "stream",
     "text": [
      "INFO:tensorflow:Enabling tensor equality\n"
     ]
    },
    {
     "name": "stderr",
     "output_type": "stream",
     "text": [
      "INFO:tensorflow:Enabling tensor equality\n"
     ]
    },
    {
     "name": "stdout",
     "output_type": "stream",
     "text": [
      "INFO:tensorflow:Enabling control flow v2\n"
     ]
    },
    {
     "name": "stderr",
     "output_type": "stream",
     "text": [
      "INFO:tensorflow:Enabling control flow v2\n"
     ]
    }
   ],
   "source": [
    "env_agent = load_agent(\"/home/ddobre/Projects/game_theory/saved_models/static_apr22/policy_saved_model/adversary_env//0/policy_000499950/\")"
   ]
  },
  {
   "cell_type": "code",
   "execution_count": 48,
   "id": "de8a79d3-03e9-4e44-83ce-4b9091df814f",
   "metadata": {},
   "outputs": [
    {
     "name": "stdout",
     "output_type": "stream",
     "text": [
      "INFO:tensorflow:Enabling eager execution\n"
     ]
    },
    {
     "name": "stderr",
     "output_type": "stream",
     "text": [
      "INFO:tensorflow:Enabling eager execution\n"
     ]
    },
    {
     "name": "stdout",
     "output_type": "stream",
     "text": [
      "INFO:tensorflow:Enabling v2 tensorshape\n"
     ]
    },
    {
     "name": "stderr",
     "output_type": "stream",
     "text": [
      "INFO:tensorflow:Enabling v2 tensorshape\n"
     ]
    },
    {
     "name": "stdout",
     "output_type": "stream",
     "text": [
      "INFO:tensorflow:Enabling resource variables\n"
     ]
    },
    {
     "name": "stderr",
     "output_type": "stream",
     "text": [
      "INFO:tensorflow:Enabling resource variables\n"
     ]
    },
    {
     "name": "stdout",
     "output_type": "stream",
     "text": [
      "INFO:tensorflow:Enabling tensor equality\n"
     ]
    },
    {
     "name": "stderr",
     "output_type": "stream",
     "text": [
      "INFO:tensorflow:Enabling tensor equality\n"
     ]
    },
    {
     "name": "stdout",
     "output_type": "stream",
     "text": [
      "INFO:tensorflow:Enabling control flow v2\n"
     ]
    },
    {
     "name": "stderr",
     "output_type": "stream",
     "text": [
      "INFO:tensorflow:Enabling control flow v2\n"
     ]
    }
   ],
   "source": [
    "corridor = AdvEnv(adversary_agent=env_agent,\n",
    "                  video_fp=\"videos/adversary_env.mp4\")"
   ]
  },
  {
   "cell_type": "code",
   "execution_count": 49,
   "id": "07bbe745-7653-49fa-bb0b-49f38aa6b1ac",
   "metadata": {},
   "outputs": [
    {
     "name": "stdout",
     "output_type": "stream",
     "text": [
      "[46, 46, 46, 46, 46, 46, 46, 46, 46, 46, 46, 46, 46, 46, 46, 46, 46, 46, 46, 46, 46, 46, 46, 46, 46, 46, 46, 46, 46, 46, 46, 46, 46, 46, 46, 46, 46, 46, 46, 70, 46, 46, 46, 70, 46, 46, 46, 108, 70, 108]\n"
     ]
    }
   ],
   "source": [
    "py_env, tf_env = corridor.adversarial_steps()"
   ]
  },
  {
   "cell_type": "code",
   "execution_count": 50,
   "id": "287d3b46-421b-4c37-b692-13e7772a3b3e",
   "metadata": {},
   "outputs": [
    {
     "name": "stdout",
     "output_type": "stream",
     "text": [
      "[46, 46, 46, 46, 46, 46, 46, 46, 46, 46, 46, 46, 46, 46, 46, 46, 46, 46, 46, 46, 46, 46, 46, 46, 46, 46, 46, 46, 46, 46, 46, 46, 46, 46, 46, 46, 70, 46, 46, 70, 108, 46, 46, 70, 108, 46, 46, 46, 70, 108]\n"
     ]
    }
   ],
   "source": [
    "py_env, tf_env = corridor.adversarial_steps()"
   ]
  },
  {
   "cell_type": "code",
   "execution_count": 51,
   "id": "d27990ec-ea0c-4d1b-bb66-90fe50baa21c",
   "metadata": {},
   "outputs": [
    {
     "name": "stdout",
     "output_type": "stream",
     "text": [
      "[46, 46, 46, 46, 46, 46, 46, 46, 46, 46, 46, 46, 46, 46, 46, 46, 46, 46, 46, 46, 46, 46, 46, 46, 46, 46, 46, 46, 46, 46, 46, 46, 46, 46, 46, 46, 46, 46, 46, 46, 46, 46, 46, 46, 46, 46, 46, 70, 46, 46]\n"
     ]
    }
   ],
   "source": [
    "py_env, tf_env = corridor.adversarial_steps()"
   ]
  },
  {
   "cell_type": "code",
   "execution_count": 52,
   "id": "518290fd-48d2-4d2b-8491-9f91d2da14ae",
   "metadata": {},
   "outputs": [
    {
     "name": "stdout",
     "output_type": "stream",
     "text": [
      "[46, 46, 46, 46, 46, 46, 46, 46, 46, 46, 46, 46, 46, 46, 46, 46, 46, 46, 46, 46, 46, 46, 46, 46, 46, 46, 46, 46, 46, 46, 46, 46, 46, 46, 46, 46, 46, 46, 46, 46, 46, 46, 46, 46, 46, 46, 46, 70, 46, 46]\n"
     ]
    }
   ],
   "source": [
    "py_env, tf_env = corridor.adversarial_steps()"
   ]
  },
  {
   "cell_type": "code",
   "execution_count": 53,
   "id": "6b8ce370-7ce8-466b-9687-c09100e66ae2",
   "metadata": {},
   "outputs": [
    {
     "name": "stdout",
     "output_type": "stream",
     "text": [
      "[46, 46, 46, 46, 46, 46, 46, 46, 46, 46, 46, 46, 46, 46, 46, 46, 46, 46, 46, 46, 46, 46, 46, 46, 46, 46, 46, 46, 46, 46, 46, 46, 46, 46, 46, 46, 46, 46, 46, 70, 46, 46, 46, 46, 46, 46, 46, 108, 70, 46]\n"
     ]
    }
   ],
   "source": [
    "py_env, tf_env = corridor.adversarial_steps()"
   ]
  },
  {
   "cell_type": "code",
   "execution_count": 54,
   "id": "9dbb258b-1c89-45ff-83c5-9a9a0e537767",
   "metadata": {},
   "outputs": [],
   "source": [
    "corridor.close()"
   ]
  },
  {
   "cell_type": "code",
   "execution_count": null,
   "id": "5a3b50cd-0942-4c35-9920-dd6c74bf7085",
   "metadata": {},
   "outputs": [],
   "source": []
  }
 ],
 "metadata": {
  "kernelspec": {
   "display_name": "venv",
   "language": "python",
   "name": "venv"
  },
  "language_info": {
   "codemirror_mode": {
    "name": "ipython",
    "version": 3
   },
   "file_extension": ".py",
   "mimetype": "text/x-python",
   "name": "python",
   "nbconvert_exporter": "python",
   "pygments_lexer": "ipython3",
   "version": "3.8.5"
  }
 },
 "nbformat": 4,
 "nbformat_minor": 5
}
